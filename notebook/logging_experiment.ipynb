{
 "cells": [
  {
   "cell_type": "code",
   "execution_count": 1,
   "id": "14d63d2d",
   "metadata": {},
   "outputs": [
    {
     "name": "stdout",
     "output_type": "stream",
     "text": [
      "Requirement already satisfied: PymuPDF in d:\\pythoncode\\document_portal\\env\\lib\\site-packages (1.26.3)\n",
      "Requirement already satisfied: structlog in d:\\pythoncode\\document_portal\\env\\lib\\site-packages (25.4.0)\n",
      "Requirement already satisfied: typing-extensions in d:\\pythoncode\\document_portal\\env\\lib\\site-packages (from structlog) (4.14.1)\n"
     ]
    }
   ],
   "source": [
    "! pip install PymuPDF\n",
    "! pip install structlog"
   ]
  },
  {
   "cell_type": "code",
   "execution_count": 5,
   "id": "dca06769",
   "metadata": {},
   "outputs": [],
   "source": [
    "import logging\n",
    "import os\n",
    "import datetime\n",
    "from datetime import datetime\n",
    "\n",
    "logs_dir=os.path.join(os.getcwd(), \"logs\")"
   ]
  },
  {
   "cell_type": "code",
   "execution_count": 6,
   "id": "b5482d87",
   "metadata": {},
   "outputs": [],
   "source": [
    "os.makedirs(logs_dir, exist_ok=True)"
   ]
  },
  {
   "cell_type": "code",
   "execution_count": 7,
   "id": "714ad2da",
   "metadata": {},
   "outputs": [],
   "source": [
    "LOG_FILE = f\"{datetime.now().strftime('%m_%d_%Y_%H_%M_%S')}.log\""
   ]
  },
  {
   "cell_type": "code",
   "execution_count": 8,
   "id": "1bdee9f7",
   "metadata": {},
   "outputs": [
    {
     "data": {
      "text/plain": [
       "'07_30_2025_18_58_42.log'"
      ]
     },
     "execution_count": 8,
     "metadata": {},
     "output_type": "execute_result"
    }
   ],
   "source": [
    "LOG_FILE"
   ]
  },
  {
   "cell_type": "code",
   "execution_count": 21,
   "id": "5258a592",
   "metadata": {},
   "outputs": [],
   "source": [
    "LOG_FILE_PATH=os.path.join(logs_dir, LOG_FILE)\n",
    "file_handler = logging.FileHandler(LOG_FILE_PATH)\n",
    "file_handler.setFormatter(logging.Formatter(\"%(message)s\"))"
   ]
  },
  {
   "cell_type": "code",
   "execution_count": 10,
   "id": "fbf6ac0b",
   "metadata": {},
   "outputs": [],
   "source": [
    "logging.basicConfig(\n",
    "    filename=LOG_FILE_PATH,\n",
    "    format=\"[ %(asctime)s ] %(levelname)s %(name)s (line:%(lineno)d) - %(message)s\",\n",
    "    level=logging.INFO,\n",
    ")"
   ]
  },
  {
   "cell_type": "code",
   "execution_count": 11,
   "id": "3b59c1a9",
   "metadata": {},
   "outputs": [],
   "source": [
    "logger=logging.getLogger(\"DocumentPortal\")"
   ]
  },
  {
   "cell_type": "code",
   "execution_count": 12,
   "id": "d016a3a0",
   "metadata": {},
   "outputs": [
    {
     "name": "stdout",
     "output_type": "stream",
     "text": [
      "This is an info message\n"
     ]
    }
   ],
   "source": [
    "\n",
    "logger.info(\"This is an info message\")"
   ]
  },
  {
   "cell_type": "code",
   "execution_count": null,
   "id": "f0709485",
   "metadata": {},
   "outputs": [],
   "source": [
    "# for more details check python loggin in google"
   ]
  },
  {
   "cell_type": "code",
   "execution_count": 24,
   "id": "9560d92d",
   "metadata": {},
   "outputs": [
    {
     "name": "stdout",
     "output_type": "stream",
     "text": [
      "{\"user_id\": 123, \"file_name\": \"example.pdf\", \"event\": \"user updated a file\", \"timestamp\": \"2025-07-30T13:56:38.699810Z\"}\n"
     ]
    }
   ],
   "source": [
    "import structlog\n",
    "import logging\n",
    "import sys\n",
    "\n",
    "# Step 1: Configure the base logging\n",
    "logging.basicConfig(\n",
    "    handlers=[file_handler],\n",
    "    level=logging.INFO,\n",
    ")\n",
    "structlog.configure(\n",
    "    processors=[\n",
    "        structlog.processors.TimeStamper(fmt=\"iso\"),  # optional timestamp\n",
    "        structlog.processors.JSONRenderer()           # output as JSON\n",
    "    ],\n",
    "    logger_factory=structlog.stdlib.LoggerFactory(),\n",
    "    wrapper_class=structlog.make_filtering_bound_logger(logging.INFO),\n",
    "    cache_logger_on_first_use=True,\n",
    ")\n",
    "\n",
    "# Step 3: Use the logger\n",
    "logger = structlog.get_logger()\n",
    "logger.info(\"user updated a file\", user_id=123, file_name=\"example.pdf\")"
   ]
  },
  {
   "cell_type": "code",
   "execution_count": null,
   "id": "1257b88c",
   "metadata": {},
   "outputs": [],
   "source": []
  }
 ],
 "metadata": {
  "kernelspec": {
   "display_name": "Python 3",
   "language": "python",
   "name": "python3"
  },
  "language_info": {
   "codemirror_mode": {
    "name": "ipython",
    "version": 3
   },
   "file_extension": ".py",
   "mimetype": "text/x-python",
   "name": "python",
   "nbconvert_exporter": "python",
   "pygments_lexer": "ipython3",
   "version": "3.10.18"
  }
 },
 "nbformat": 4,
 "nbformat_minor": 5
}
